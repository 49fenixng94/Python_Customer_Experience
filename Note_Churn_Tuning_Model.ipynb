{
 "cells": [
  {
   "cell_type": "markdown",
   "metadata": {},
   "source": [
    "******************************************************************************\n",
    "\n",
    "\n",
    "#### Tuning the model\n",
    "\n",
    "##### Case Example - Predicting customer churn problem (File Name: telco.csv)\n",
    "\n",
    "Model used for example: Random Forest\n",
    "\n",
    "Step 1 \n",
    "- Create a dictionary for the hyperparameters\n",
    "\n",
    "Step 2\n",
    "- Tuning 'n_estimators' - Number of features for best split.\n",
    "- Tuning 'max_features' - Number features RF should consider ehrn looking for the best split at decision tree.\n",
    "- Tuning other hyperparameters - let algorithm to try out all possible combinations of hyperparameters to identify the best combination\n",
    "- Randomised Search - shorten the execution time for different combination (trade off - may miss out the best combination)\n",
    "\n",
    "Step 3\n",
    "- Create label to features/attributes\n",
    "- Determine which features mostly important\n",
    "\n",
    "********************************************************************************"
   ]
  },
  {
   "cell_type": "code",
   "execution_count": null,
   "metadata": {},
   "outputs": [],
   "source": [
    "import pandas as pd\n",
    "\n",
    "# load dataset - telco.csv\n",
    "\n",
    "telco = pd.read_csv(\"telco.csv\")\n",
    "\n",
    "from sklearn.svm import SVC\n",
    "svc = SVC()\n",
    "svc.fit(telco['data'], telco['target'])"
   ]
  },
  {
   "cell_type": "markdown",
   "metadata": {},
   "source": [
    "1. Tuning 'n_estimators' "
   ]
  },
  {
   "cell_type": "code",
   "execution_count": null,
   "metadata": {},
   "outputs": [],
   "source": [
    "# Tuning 'n_estimators' - Number of features for best split.\n",
    "from sklearn.model_selection import GridSearchCV\n",
    "param_grid = {'n_estimators': np.arange(10, 51)}\n",
    "clf_cv = GridSearchCV(RandomForestClassifier(), param_grid)\n",
    "clf_cv.fit(X, y)\n",
    "clf_cv.best_params_\n"
   ]
  },
  {
   "cell_type": "code",
   "execution_count": null,
   "metadata": {},
   "outputs": [],
   "source": [
    "# Scores representing how much each feature contributes to a prediction\n",
    "clf_cv.best_score_"
   ]
  },
  {
   "cell_type": "markdown",
   "metadata": {},
   "source": [
    "2. Tuning 'max_features' "
   ]
  },
  {
   "cell_type": "code",
   "execution_count": null,
   "metadata": {},
   "outputs": [],
   "source": [
    "# Tuning 'max_features' - Number features RF should consider ehrn looking for the best split at decision tree.\n",
    "\n",
    "# Import GridSearchCV\n",
    "from sklearn.model_selection import GridSearchCV\n",
    "\n",
    "# Create the hyperparameter grid\n",
    "param_grid = {'max_features': ['auto', 'sqrt', 'log2']}\n",
    "\n",
    "# Call GridSearchCV\n",
    "grid_search = GridSearchCV(clf, param_grid)\n",
    "\n",
    "# Fit the model\n",
    "grid_search.fit(X, y)\n",
    "\n",
    "# Print the optimal parameters\n",
    "print(grid_search.best_params_)"
   ]
  },
  {
   "cell_type": "markdown",
   "metadata": {},
   "source": [
    "3. Tuning other hyperparameters"
   ]
  },
  {
   "cell_type": "code",
   "execution_count": null,
   "metadata": {},
   "outputs": [],
   "source": [
    "# Tuning other hyperparameters - \n",
    "# let algorithm to try out all possible combinations of hyperparameters \n",
    "# to identify the best combination\n",
    "\n",
    "\n",
    "# Import GridSearchCV\n",
    "from sklearn.model_selection import GridSearchCV\n",
    "\n",
    "# Create the hyperparameter grid\n",
    "param_grid = {\"max_depth\": [3, None],\n",
    "              \"max_features\": [1, 3, 10],\n",
    "              \"bootstrap\": [True, False],\n",
    "              \"criterion\": [\"gini\", \"entropy\"]}\n",
    "\n",
    "# Call GridSearchCV\n",
    "grid_search = GridSearchCV(clf, param_grid)\n",
    "\n",
    "# Fit the model\n",
    "grid_search.fit(X, y)"
   ]
  },
  {
   "cell_type": "markdown",
   "metadata": {},
   "source": [
    "4. Using 'Random Search'"
   ]
  },
  {
   "cell_type": "code",
   "execution_count": null,
   "metadata": {},
   "outputs": [],
   "source": [
    "# Randomised Search - shorten the execution time for different combination \n",
    "# (trade off - may miss out the best combination)\n",
    "\n",
    "# Import RandomizedSearchCV\n",
    "from sklearn.model_selection import RandomizedSearchCV\n",
    "\n",
    "# Create the hyperparameter grid\n",
    "param_dist = {\"max_depth\": [3, None],\n",
    "              \"max_features\": randint(1, 11),\n",
    "              \"bootstrap\": [True, False],\n",
    "              \"criterion\": [\"gini\", \"entropy\"]}\n",
    "\n",
    "# Call RandomizedSearchCV\n",
    "random_search = RandomizedSearchCV(clf, param_dist)\n",
    "\n",
    "# Fit the model\n",
    "random_search.fit(X, y)"
   ]
  },
  {
   "cell_type": "markdown",
   "metadata": {},
   "source": [
    "5. Label the feature / Determine which features are important drivers of churn\n"
   ]
  },
  {
   "cell_type": "code",
   "execution_count": null,
   "metadata": {},
   "outputs": [],
   "source": [
    "# Calculate feature importances\n",
    "importances = clf.feature_importances_\n",
    "\n",
    "# Sort importances\n",
    "sorted_index = np.argsort(importances)\n",
    "\n",
    "# Create labels\n",
    "labels = X.columns[sorted_index]\n",
    "\n",
    "# Clear current plot\n",
    "plt.clf()\n",
    "\n",
    "# Create plot\n",
    "plt.barh(range(X.shape[1]), importances[sorted_index], tick_label=labels)\n",
    "plt.show()"
   ]
  }
 ],
 "metadata": {
  "kernelspec": {
   "display_name": "Python 3",
   "language": "python",
   "name": "python3"
  },
  "language_info": {
   "codemirror_mode": {
    "name": "ipython",
    "version": 3
   },
   "file_extension": ".py",
   "mimetype": "text/x-python",
   "name": "python",
   "nbconvert_exporter": "python",
   "pygments_lexer": "ipython3",
   "version": "3.8.5"
  }
 },
 "nbformat": 4,
 "nbformat_minor": 4
}
