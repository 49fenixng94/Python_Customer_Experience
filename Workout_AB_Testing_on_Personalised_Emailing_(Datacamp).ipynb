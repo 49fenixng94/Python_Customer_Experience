{
 "cells": [
  {
   "cell_type": "markdown",
   "metadata": {},
   "source": [
    "### Import packages"
   ]
  },
  {
   "cell_type": "code",
   "execution_count": 37,
   "metadata": {},
   "outputs": [],
   "source": [
    "import pandas as pd\n",
    "import numpy as np\n",
    "import matplotlib.pyplot as plt\n",
    "from scipy.stats import ttest_ind"
   ]
  },
  {
   "cell_type": "code",
   "execution_count": 38,
   "metadata": {},
   "outputs": [],
   "source": [
    "# import marketing.csv\n",
    "\n",
    "marketing = pd.read_csv('marketing.csv')"
   ]
  },
  {
   "cell_type": "markdown",
   "metadata": {},
   "source": [
    "### AB Test on Personalised Email Campaign\n",
    "\n",
    "#### Background:\n",
    "\n",
    "* The email portion of this campaign was actually run as an A/B test. Half the emails sent out were generic upsells to your product while the other half contained personalized messaging around the users’ usage of the site.\n",
    "\n",
    "* Conversion rate is our key metrics for this test.\n"
   ]
  },
  {
   "cell_type": "code",
   "execution_count": 39,
   "metadata": {},
   "outputs": [
    {
     "data": {
      "image/png": "[encoded data removed]",
      "text/plain": [
       "<Figure size 432x288 with 1 Axes>"
      ]
     },
     "metadata": {
      "needs_background": "light"
     },
     "output_type": "display_data"
    }
   ],
   "source": [
    "# Subset the dataframe to focus on 'Email'\n",
    "email = marketing[marketing['marketing_channel']=='Email']\n",
    "\n",
    "# Group the email DataFrame by variant \n",
    "alloc = email.groupby(['variant'])['user_id'].nunique()\n",
    "\n",
    "# Plot a bar chart of the test allocation\n",
    "alloc.plot(kind='bar')\n",
    "plt.title('Personalization test allocation')\n",
    "plt.ylabel('# participants')\n",
    "plt.show()"
   ]
  },
  {
   "cell_type": "code",
   "execution_count": 40,
   "metadata": {},
   "outputs": [
    {
     "name": "stdout",
     "output_type": "stream",
     "text": [
      "Control conversion rate: 0.2814814814814815\n",
      "Personalization conversion rate: 0.3908450704225352\n"
     ]
    }
   ],
   "source": [
    "# Group marketing by user_id and variant\n",
    "subscribers = email.groupby(['user_id', \n",
    "                             'variant'])['converted'].max()\n",
    "subscribers_df = pd.DataFrame(subscribers.unstack(level=1)) \n",
    "\n",
    "# Drop missing values from the control column\n",
    "control = subscribers_df['control'].dropna()\n",
    "\n",
    "# Drop missing values from the personalization column\n",
    "personalization = subscribers_df['personalization'].dropna()\n",
    "\n",
    "print('Control conversion rate:', np.mean(control))\n",
    "print('Personalization conversion rate:', np.mean(personalization))\n"
   ]
  },
  {
   "cell_type": "markdown",
   "metadata": {},
   "source": [
    "#### Treatment performance compared to the control\n",
    "\n",
    "* Was the conversion rate higher for the treatment?\n",
    "* by how much?"
   ]
  },
  {
   "cell_type": "code",
   "execution_count": 41,
   "metadata": {},
   "outputs": [
    {
     "name": "stdout",
     "output_type": "stream",
     "text": [
      "38.85%\n"
     ]
    }
   ],
   "source": [
    "def lift(control, personalization):\n",
    "    # Calcuate the mean of a and b \n",
    "    a_mean = np.mean(control)\n",
    "    b_mean = np.mean(personalization)\n",
    "    \n",
    "    # Calculate the lift using a_mean and b_mean\n",
    "    lift = (b_mean-a_mean)/a_mean\n",
    "  \n",
    "    return str(round(lift*100, 2)) + '%'\n",
    "  \n",
    "# Print lift() with control and personalization as inputs\n",
    "print(lift(control, personalization))"
   ]
  },
  {
   "cell_type": "code",
   "execution_count": 42,
   "metadata": {},
   "outputs": [
    {
     "name": "stdout",
     "output_type": "stream",
     "text": [
      "Ttest_indResult(statistic=-2.7343299447505074, pvalue=0.006451487844694175)\n"
     ]
    }
   ],
   "source": [
    "# T-test for significant\n",
    "t = ttest_ind(control, personalization)\n",
    "print(t)"
   ]
  },
  {
   "cell_type": "markdown",
   "metadata": {},
   "source": [
    "**Result:** The P-Value is close to zero, there is a statistically significant different between the control and treatment groups of this test."
   ]
  },
  {
   "cell_type": "markdown",
   "metadata": {},
   "source": [
    "* Is this personalization experiment is statistically significant and create similar effect across all segments with different demographics? "
   ]
  },
  {
   "cell_type": "code",
   "execution_count": 43,
   "metadata": {},
   "outputs": [],
   "source": [
    "# build a function to test the 'Email' experiment creating different effect to the given segment \n",
    "\n",
    "from scipy.stats import ttest_ind\n",
    "\n",
    "def ab_segmentation(segment):\n",
    "  # Build a for loop for each subsegment in marketing\n",
    "  for subsegment in np.unique(marketing[segment].values):\n",
    "      print(subsegment)\n",
    "      \n",
    "      # Limit marketing to email and subsegment\n",
    "      email = marketing[(marketing['marketing_channel'] == 'Email') & (marketing[segment] == subsegment)]\n",
    "\n",
    "      subscribers = email.groupby(['user_id', 'variant'])['converted'].max()\n",
    "      subscribers = pd.DataFrame(subscribers.unstack(level=1)) \n",
    "      control = subscribers['control'].dropna()\n",
    "      personalization = subscribers['personalization'].dropna()\n",
    "\n",
    "      print('lift:', lift(control, personalization)) \n",
    "      print('t-statistic:', ttest_ind(control, personalization), '\\n\\n')"
   ]
  },
  {
   "cell_type": "code",
   "execution_count": 44,
   "metadata": {},
   "outputs": [
    {
     "name": "stdout",
     "output_type": "stream",
     "text": [
      "Arabic\n",
      "lift: 50.0%\n",
      "t-statistic: Ttest_indResult(statistic=-0.5773502691896255, pvalue=0.5795840000000001) \n",
      "\n",
      "\n",
      "English\n",
      "lift: 39.0%\n",
      "t-statistic: Ttest_indResult(statistic=-2.2183598646203166, pvalue=0.026991701290720815) \n",
      "\n",
      "\n",
      "German\n",
      "lift: -1.62%\n",
      "t-statistic: Ttest_indResult(statistic=0.1910083418078718, pvalue=0.8494394170062678) \n",
      "\n",
      "\n",
      "Spanish\n",
      "lift: 166.67%\n",
      "t-statistic: Ttest_indResult(statistic=-2.3570226039551585, pvalue=0.040156718110477524) \n",
      "\n",
      "\n"
     ]
    }
   ],
   "source": [
    "# Test the effect on 'language_displayed'\n",
    "\n",
    "# Use ab_segmentation on language displayed\n",
    "ab_segmentation('language_displayed')"
   ]
  },
  {
   "cell_type": "code",
   "execution_count": 45,
   "metadata": {},
   "outputs": [
    {
     "name": "stdout",
     "output_type": "stream",
     "text": [
      "0-18 years\n",
      "lift: 121.4%\n",
      "t-statistic: Ttest_indResult(statistic=-2.966044912142211, pvalue=0.0038724494391297226) \n",
      "\n",
      "\n",
      "19-24 years\n",
      "lift: 106.24%\n",
      "t-statistic: Ttest_indResult(statistic=-3.03179438478667, pvalue=0.0030623836114689134) \n",
      "\n",
      "\n",
      "24-30 years\n",
      "lift: 161.19%\n",
      "t-statistic: Ttest_indResult(statistic=-3.861539544326876, pvalue=0.00018743381094867337) \n",
      "\n",
      "\n",
      "30-36 years\n",
      "lift: -100.0%\n",
      "t-statistic: Ttest_indResult(statistic=3.1859064644147996, pvalue=0.0023238487431765137) \n",
      "\n",
      "\n",
      "36-45 years\n",
      "lift: -85.23%\n",
      "t-statistic: Ttest_indResult(statistic=2.4317901279318503, pvalue=0.01797568600978829) \n",
      "\n",
      "\n",
      "45-55 years\n",
      "lift: -72.22%\n",
      "t-statistic: Ttest_indResult(statistic=2.065499127317933, pvalue=0.043062339688201196) \n",
      "\n",
      "\n",
      "55+ years\n",
      "lift: -100.0%\n",
      "t-statistic: Ttest_indResult(statistic=3.3265654564203397, pvalue=0.0016358623456360435) \n",
      "\n",
      "\n"
     ]
    }
   ],
   "source": [
    "# # Use ab_segmentation to test the effect on 'age_group'\n",
    "ab_segmentation('age_group')"
   ]
  },
  {
   "cell_type": "markdown",
   "metadata": {},
   "source": [
    "**Finding:** From above, the personalization email was extremely effective for younger groups but less effective than the control for older groups. One explanation might be that younger users understand how their data might be used online and think personalized email brings higher customer experience to them."
   ]
  },
  {
   "cell_type": "code",
   "execution_count": null,
   "metadata": {},
   "outputs": [],
   "source": []
  },
  {
   "cell_type": "code",
   "execution_count": null,
   "metadata": {},
   "outputs": [],
   "source": []
  }
 ],
 "metadata": {
  "kernelspec": {
   "display_name": "Python 3",
   "language": "python",
   "name": "python3"
  },
  "language_info": {
   "codemirror_mode": {
    "name": "ipython",
    "version": 3
   },
   "file_extension": ".py",
   "mimetype": "text/x-python",
   "name": "python",
   "nbconvert_exporter": "python",
   "pygments_lexer": "ipython3",
   "version": "3.8.3"
  }
 },
 "nbformat": 4,
 "nbformat_minor": 4
}
